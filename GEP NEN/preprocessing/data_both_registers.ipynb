{
 "cells": [
  {
   "cell_type": "code",
   "execution_count": null,
   "metadata": {},
   "outputs": [],
   "source": [
    "import pandas as pd\n",
    "import numpy as np\n",
    "\n",
    "pd.set_option('display.max_columns', None)  \n",
    "pd.set_option('display.max_rows', None)  \n",
    "\n",
    "from functions import *\n",
    "\n",
    "# Replace the path with the actual path to your file\n",
    "file_path = '../../GEP-NEN-data/Both Registers.xlsx'\n",
    "\n",
    "df1 = pd.read_excel(file_path, sheet_name='Form 1 & Form 2ab Fused', index_col='PATNO')\n",
    "df1.shape"
   ]
  },
  {
   "cell_type": "code",
   "execution_count": null,
   "metadata": {},
   "outputs": [],
   "source": [
    "df2 = pd.read_excel(file_path, sheet_name='Form 2 & Form 2c Fused', index_col='PATNO')\n",
    "print(df2.shape)"
   ]
  },
  {
   "cell_type": "code",
   "execution_count": null,
   "metadata": {},
   "outputs": [],
   "source": [
    "df3 = pd.read_excel(file_path, sheet_name='Form 4 & Form 10 Fused', index_col='PATNO')"
   ]
  },
  {
   "cell_type": "code",
   "execution_count": null,
   "metadata": {},
   "outputs": [],
   "source": [
    "df4 = pd.read_excel(file_path, sheet_name='Form 1 & Form 4a Fused', index_col='PATNO')"
   ]
  },
  {
   "cell_type": "code",
   "execution_count": null,
   "metadata": {},
   "outputs": [],
   "source": [
    "df5 = pd.read_excel(file_path, sheet_name='Form 3 & Form 5a Fused', index_col='PATNO')"
   ]
  },
  {
   "cell_type": "code",
   "execution_count": null,
   "metadata": {},
   "outputs": [],
   "source": [
    "df6 = pd.read_excel(file_path, sheet_name='New Variables Fused', index_col='PATNO')\n"
   ]
  },
  {
   "cell_type": "markdown",
   "metadata": {},
   "source": [
    "### Function that removes 100% NaN values."
   ]
  },
  {
   "cell_type": "code",
   "execution_count": null,
   "metadata": {},
   "outputs": [],
   "source": [
    "import pandas as pd\n",
    "\n",
    "def clean_data(df, study_patients):\n",
    "    # Filter the dataset based on the specified study_patients\n",
    "    filtered_df = df[df.index.isin(study_patients)]\n",
    "    \n",
    "    # Count NaN values for every column (axis=0)\n",
    "    nan_percentage_per_column = (filtered_df.isnull().mean() * 100).sort_values(ascending=False)\n",
    "\n",
    "    # Get the column names where NaN percentage is not 100%\n",
    "    columns_to_keep = nan_percentage_per_column[nan_percentage_per_column < 100].index\n",
    "\n",
    "    # Create a new DataFrame with only the selected columns\n",
    "    cleaned_df = filtered_df[columns_to_keep]\n",
    "\n",
    "    return cleaned_df\n",
    "\n"
   ]
  },
  {
   "cell_type": "markdown",
   "metadata": {},
   "source": [
    "# Old study"
   ]
  },
  {
   "cell_type": "code",
   "execution_count": null,
   "metadata": {},
   "outputs": [],
   "source": [
    "old_s_pat = [\n",
    "    4001, 4003, 4004, 4005, 4006, 4007, 4008, 4009, 4010, 4011, 4012, 4013, 4014,\n",
    "    4015, 4016, 4017, 4018, 4019, 4020, 4024, 6001, 6002, 6003, 6004, 6006, 6007,\n",
    "    6008, 6009, 8001, 8002, 8004, 8005, 8101, 8102, 8103, 8104, 8105, 8106, 8107,\n",
    "    8108, 8109, 8110, 8111, 8112, 8113, 8115, 8117, 8118, 8119, 8120, 8121, 8123,\n",
    "    8124, 8125, 8126, 8127, 8128, 8129, 8130, 8131, 8132, 8133, 8134, 8135, 8136,\n",
    "    8137, 8138, 8139, 8140, 8141, 8142, 8143, 8501, 8502, 8503, 8505, 8506, 8507, 9002\n",
    "]\n",
    "old_s_pat = set(old_s_pat)\n",
    "\n",
    "old_merged_df = clean_data(df1, old_s_pat).merge(clean_data(df2, old_s_pat), left_index=True, right_index=True, how='outer')\n",
    "old_merged_df = old_merged_df.merge(clean_data(df3, old_s_pat), left_index=True, right_index=True, how='outer')\n",
    "old_merged_df = old_merged_df.merge(clean_data(df4, old_s_pat), left_index=True, right_index=True, how='outer')\n",
    "old_merged_df = old_merged_df.merge(clean_data(df5, old_s_pat), left_index=True, right_index=True, how='outer')\n",
    "old_merged_df = old_merged_df.merge(clean_data(df6, old_s_pat), left_index=True, right_index=True, how='outer')\n",
    "\n",
    "old_merged_df.shape # 79 pasienter og 99 features\n",
    "\n"
   ]
  },
  {
   "cell_type": "markdown",
   "metadata": {},
   "source": [
    "### Remove similar features (take the features that have most data)"
   ]
  },
  {
   "cell_type": "code",
   "execution_count": null,
   "metadata": {},
   "outputs": [],
   "source": [
    "rename_dict = {\n",
    "    'BMI_x': 'BMI',\n",
    "    'Carcinoid Syndrome_x': 'Carcinoid Syndrome',\n",
    "    'Date of Metastasis_x': 'Date of Metastasis',\n",
    "    'Date of Diagnosis_x': 'Date of Diagnosis',\n",
    "    'Date of PT Resection_x': 'Date of PT Resection',\n",
    "    'Ki-67_x': 'Ki-67',\n",
    "    'Metastatic Disease_x': 'Metastatic Disease',\n",
    "    'Mets(Brain)_y': 'Mets(Brain)',\n",
    "    'Mets(Bone)_y': 'Mets(Bone)',\n",
    "    'Mets(LN)_y': 'Mets(LN)',\n",
    "    'Mets(Liver)_y': 'Mets(Liver)',\n",
    "    'Mets(Lung)_y': 'Mets(Lung)',\n",
    "    'Mets(Other)_y': 'Mets(Other)',\n",
    "    'Octreoscan_x': 'Octreoscan',\n",
    "    'Primary Tumour_x': 'Primary Tumour',\n",
    "    'Primary Tumour Resected_x': 'Primary Tumour Resected',\n",
    "    'Prior Other Cancer_x': 'Prior Other Cancer',\n",
    "    'Sex_x': 'Sex',\n",
    "    'Smoking_x': 'Smoking',\n",
    "    'Stage grouped_x': 'Stage grouped',\n",
    "    'Surgery of Metastasis_x': 'Surgery of Metastasis',\n",
    "    'Synaptophysin_x': 'Synaptophysin',\n",
    "    'Tumour Morphology_x': 'Tumour Morphology',\n",
    "    'WHO Perf Stat_x': 'WHO Perf Stat',\n",
    "    'CRP_x': 'CRP',\n",
    "    'Chromogranin A_y': 'Chromogranin A2',\n",
    "    'Hormonal Symptoms_x': 'Hormonal Symptoms',\n",
    "    'Date of Birth_x': 'Date of Birth',\n",
    "}\n",
    "columns_to_remove = ['Mets(Brain)_x', 'Mets(Bone)_x', 'Mets(LN)_x', 'Mets(Liver)_x', 'Mets(Lung)_x',\n",
    "                     'Mets(Other)_x', 'Chromogranin A_x', 'Ki-67_y', 'Smoking_y', 'Prior Other Cancer_y', \n",
    "                     'Octreoscan_y', 'Stage grouped_y', 'Primary Tumour Resected_y', 'Sex_y', 'Synaptophysin_y', \n",
    "                     'Primary Tumour_y', 'Surgery of Metastasis_y', 'Metastatic Disease_y', 'Date of Metastasis_y',\n",
    "                     'Hormonal Symptoms_y', 'Date of Diagnosis_y', 'Date of Birth_y', 'Carcinoid Syndrome_y', 'BMI_y',\n",
    "                     'WHO Perf Stat_y', 'Date of PT Resection_y', 'Tumour Morphology_y']\n",
    "                     \n",
    "old_merged_df.rename(columns=rename_dict, inplace=True)\n",
    "old_merged_df.drop(columns=columns_to_remove, inplace=True)\n",
    "old_merged_df.shape\n",
    "\n",
    "\n"
   ]
  },
  {
   "cell_type": "code",
   "execution_count": null,
   "metadata": {},
   "outputs": [],
   "source": [
    "print(old_merged_df.columns)"
   ]
  },
  {
   "cell_type": "code",
   "execution_count": null,
   "metadata": {},
   "outputs": [],
   "source": [
    "print(old_merged_df.shape)"
   ]
  },
  {
   "cell_type": "code",
   "execution_count": null,
   "metadata": {},
   "outputs": [],
   "source": [
    "old_merged_df['Chemotherapy Type'].value_counts()"
   ]
  },
  {
   "cell_type": "code",
   "execution_count": null,
   "metadata": {},
   "outputs": [],
   "source": [
    "old_merged_df['Surgery of Metastasis'].value_counts()"
   ]
  },
  {
   "cell_type": "markdown",
   "metadata": {},
   "source": [
    "### Convert all \"Unknown\" and \"Not Done\" to NaN"
   ]
  },
  {
   "cell_type": "code",
   "execution_count": null,
   "metadata": {},
   "outputs": [],
   "source": [
    "old_merged_df['WBC'] = old_merged_df['WBC'].replace('>10x10Ë9/L', '>10x10^9/L')\n",
    "old_merged_df['Platelets'] = old_merged_df['Platelets'].replace('>400x10Ë9/L', '>400x10^9/L')\n",
    "\n",
    "old_merged_df.replace(['Unknown', 'Not Done'], pd.NA, inplace=True)"
   ]
  },
  {
   "cell_type": "markdown",
   "metadata": {},
   "source": [
    "### Remove patients with NaN (\"status\" and \"OS (days)\") - spørre Henning om han kan fylle disse"
   ]
  },
  {
   "cell_type": "code",
   "execution_count": null,
   "metadata": {},
   "outputs": [],
   "source": [
    "# Verify that rows with NaN values in the \"Status\" column have been removed\n",
    "print(\"Number of NaN values in 'Status' column after removal:\", old_merged_df['Status'].isnull().sum())\n",
    "print(old_merged_df.shape)\n",
    "\n",
    "old_merged_df = old_merged_df.dropna(subset=['Status'])"
   ]
  },
  {
   "cell_type": "code",
   "execution_count": null,
   "metadata": {},
   "outputs": [],
   "source": [
    "# Verify that rows with NaN values in the \"Status\" column have been removed\n",
    "print(\"Number of NaN values in 'Status' column after removal:\", old_merged_df['OS (days)'].isnull().sum())\n",
    "print(old_merged_df.shape)\n",
    "\n",
    "old_merged_df = old_merged_df.dropna(subset=['OS (days)'])\n"
   ]
  },
  {
   "cell_type": "markdown",
   "metadata": {},
   "source": [
    "#### Remove features Henning thing are not (and Dates)"
   ]
  },
  {
   "cell_type": "code",
   "execution_count": null,
   "metadata": {},
   "outputs": [],
   "source": [
    "# Brukes til Kaplan Meier, men fjerner for nå\n",
    "\n",
    "old_merged_df = old_merged_df.drop(columns=[\"Ki-67 grouping\"], axis=1)\n"
   ]
  },
  {
   "cell_type": "code",
   "execution_count": null,
   "metadata": {},
   "outputs": [],
   "source": [
    "columns_to_drop = [\n",
    "    'Date of Metastasis',\n",
    "    'CRP Not Done',\n",
    "    'Date of Last Observation',\n",
    "    'Date of Birth',\n",
    "    'Date of Diagnosis',\n",
    "    'Carboplatin+Etoposide',\n",
    "    'Carboplatin+Etoposide+Vincristin',\n",
    "    'Cisplatin+Etoposide',\n",
    "    'Date of First Treatment',\n",
    "    'Date of Last Treatment',\n",
    "    'Date of Progression',\n",
    "    'Time from diag to mets (months)',\n",
    "    'Date of Progression 3.line',\n",
    "    'Date of 3.line',\n",
    "    'Best Response (RECIST) 3.line',\n",
    "    'Date of First Reintroduction',\n",
    "    'Date of Progression2',\n",
    "    'Best Response 2 (RECIST)',\n",
    "    'Date of Progression 2.line',\n",
    "    'Best Response (RECIST) 2.line',\n",
    "    'Date of 2.line',\n",
    "    'Date of PT Resection',\n",
    "    'Duration of Response (Months)',\n",
    "    \"OS (months)\"                    \n",
    "]\n",
    "\n",
    "old_merged_df.drop(columns=columns_to_drop, axis=1, inplace=True)\n",
    "old_merged_df.shape"
   ]
  },
  {
   "cell_type": "markdown",
   "metadata": {},
   "source": [
    "### Feature with many NaN"
   ]
  },
  {
   "cell_type": "code",
   "execution_count": null,
   "metadata": {},
   "outputs": [],
   "source": [
    "# Count NaN values for every column (axis=0)\n",
    "nan_percentage_per_column = (old_merged_df.isnull().mean() * 100).sort_values(ascending=False)\n",
    "\n",
    "print(\"Percentage of NaN values for every column in descending order:\")\n",
    "nan_percentage_per_column.head(20)\n"
   ]
  },
  {
   "cell_type": "markdown",
   "metadata": {},
   "source": [
    "- Remove all features with over 50 % NaN"
   ]
  },
  {
   "cell_type": "code",
   "execution_count": null,
   "metadata": {},
   "outputs": [],
   "source": [
    "columns_to_drop = nan_percentage_per_column[nan_percentage_per_column > 50].index\n",
    "old_merged_df.drop(columns=columns_to_drop, inplace=True)\n",
    "old_merged_df.shape"
   ]
  },
  {
   "cell_type": "markdown",
   "metadata": {},
   "source": [
    "#### Feature with just one variable or little variation\n"
   ]
  },
  {
   "cell_type": "code",
   "execution_count": null,
   "metadata": {},
   "outputs": [],
   "source": [
    "# Assuming 'old_merged_df' is your DataFrame and you're using 5-fold cross-validation\n",
    "n_splits = 5\n",
    "old_category = summarize_binary_value_counts_with_threshold(old_merged_df)\n",
    "old_category"
   ]
  },
  {
   "cell_type": "code",
   "execution_count": null,
   "metadata": {},
   "outputs": [],
   "source": [
    "threshold = 8\n",
    "old_merged_df = remove_highly_imbalanced_binary_features(old_merged_df, threshold)\n"
   ]
  },
  {
   "cell_type": "markdown",
   "metadata": {},
   "source": [
    "### Remove PATNO with many NaN\n",
    "Sjekker først hvilke pasienter som har flest NaN, og setter en grense på 10 %, så fjerner alt over 10 % (Total Percentage)\n",
    "- Setter dem i minkende rekkefølge"
   ]
  },
  {
   "cell_type": "code",
   "execution_count": null,
   "metadata": {},
   "outputs": [],
   "source": [
    "# Calculate the percentage of NaN values in each row\n",
    "nan_percentage = (old_merged_df.isna().sum(axis=1) / old_merged_df.shape[1]) * 100\n",
    "\n",
    "# Create a DataFrame to hold the percentages\n",
    "percentages_df = pd.DataFrame({\n",
    "    'NaN (%)': nan_percentage\n",
    "})\n",
    "\n",
    "# Display the sorted DataFrame\n",
    "sorted_percentages_df = percentages_df.sort_values(by='NaN (%)', ascending=False)\n",
    "print(sorted_percentages_df.head(15))\n"
   ]
  },
  {
   "cell_type": "markdown",
   "metadata": {},
   "source": [
    "- Remove PATNO that has higher than 10 % for Total Percentage"
   ]
  },
  {
   "cell_type": "code",
   "execution_count": null,
   "metadata": {},
   "outputs": [],
   "source": [
    "# Filter rows where the total percentage is less than or equal to 10% and update old_merged_df\n",
    "old_merged_df = old_merged_df[percentages_df['NaN (%)'] <= 10]\n",
    "old_merged_df.shape"
   ]
  },
  {
   "cell_type": "code",
   "execution_count": null,
   "metadata": {},
   "outputs": [],
   "source": [
    "old_merged_df.columns"
   ]
  },
  {
   "cell_type": "markdown",
   "metadata": {},
   "source": [
    "### Save an Excel sheet"
   ]
  },
  {
   "cell_type": "code",
   "execution_count": null,
   "metadata": {},
   "outputs": [],
   "source": [
    "file_path = \"old_study.xlsx\"\n",
    "\n",
    "# Save the DataFrame to an Excel file\n",
    "old_merged_df.to_excel(file_path, index=True) \n",
    "print(old_merged_df.columns)\n"
   ]
  },
  {
   "cell_type": "markdown",
   "metadata": {},
   "source": [
    "# New study"
   ]
  },
  {
   "cell_type": "markdown",
   "metadata": {},
   "source": [
    "#### Merge all sheet that has is just for the new study and remove columns that has 100 % NaN\n",
    "- Remove feature that have just NaN (because of data just for the new old and nothing for the new study)"
   ]
  },
  {
   "cell_type": "code",
   "execution_count": null,
   "metadata": {},
   "outputs": [],
   "source": [
    "new_study_patients = [\n",
    "    9001, 9003, 9004, 9005, 9007, 9008, 9009, 9010, 9012, 9013, 9014, 9015, 9017, 9018, 9019, 9020,\n",
    "    9021, 9022, 9023, 9024, 9025, 9026, 9028, 9029, 9030, 9031, 9032, 9033, 9034, 9035, 9036, 9037,\n",
    "    9038, 9039, 9040, 9041, 9042, 9044, 9045, 9047, 9048, 9049, 9051, 9052, 9053, 9054, 9055, 9056,\n",
    "    9057, 9058, 9059, 9060, 9063, 9064, 9065, 9066, 9067, 9068, 9069, 9070, 9071, 9072, 9073, 9074,\n",
    "    9075, 9077, 9078, 9079, 9080, 9081, 9082, 9083, 9084, 9085, 9086, 9090, 9092, 9093, 9094, 9095,\n",
    "    9097, 9098, 9099, 9100, 9102, 9103, 9104, 9105, 9106, 9108, 9109, 9110, 9111, 9112, 9113, 9114,\n",
    "    9115, 9116, 9117, 9118, 9119, 9120, 9121, 9210, 9209, 9208, 9206, 9205, 9204, 9203, 9207, 9202,\n",
    "    9201\n",
    "]\n",
    "new_s_pat = set(new_study_patients)\n",
    "\n",
    "new_merged_df = clean_data(df1, new_s_pat).merge(clean_data(df2, new_s_pat), left_index=True, right_index=True, how='outer')\n",
    "new_merged_df = new_merged_df.merge(clean_data(df3, new_s_pat), left_index=True, right_index=True, how='outer')\n",
    "new_merged_df = new_merged_df.merge(clean_data(df4, new_s_pat), left_index=True, right_index=True, how='outer')\n",
    "new_merged_df = new_merged_df.merge(clean_data(df5, new_s_pat), left_index=True, right_index=True, how='outer')\n",
    "new_merged_df = new_merged_df.merge(clean_data(df6, new_s_pat), left_index=True, right_index=True, how='outer')\n",
    "\n",
    "new_merged_df.shape # 113 pasienter og 135 features\n",
    "\n"
   ]
  },
  {
   "cell_type": "markdown",
   "metadata": {},
   "source": [
    "### Remove and change name on column\n",
    "Many columns have identical names because the different sheets have identical column names, but some sheets have different quantities of values for the identical column names.\n",
    "So in the code below, we rename the column that we want to keep, and remove the column that we want to remove. "
   ]
  },
  {
   "cell_type": "code",
   "execution_count": null,
   "metadata": {},
   "outputs": [],
   "source": [
    "rename_dict = {\n",
    "    'Albumin_x': 'Albumin',\n",
    "    'ALP_x': 'ALP',\n",
    "    'CRP_x': 'CRP',\n",
    "    'Chromogranin A_x': 'Chromogranin A',\n",
    "    'Chromogranin A_y': 'Chromogranin A2',\n",
    "    'Creatinine_x': 'Creatinine',\n",
    "    'Haemoglobin_x': 'Haemoglobin',\n",
    "    'NSE_x': 'NSE',\n",
    "    'Platelets_x': 'Platelets',\n",
    "    'WBC_x': 'WBC',\n",
    "    'WHO Perf Stat_x': 'WHO Perf Stat',\n",
    "    '5-HIAA 24h Urine_x': '5-HIAA 24h Urine',\n",
    "    'Absolute Neutrophil Count_x': 'Absolute Neutrophil Count',\n",
    "    'LDH_x': 'LDH'\n",
    "    }\n",
    "\n",
    "columns_to_remove = ['Albumin_y', 'CRP_y', 'Chromogranin A', 'Creatinine_y', 'Haemoglobin_y',\n",
    "                     'NSE_y', 'Platelets_y', 'WBC_y', 'WHO Perf Stat_y', 'ALP_y', '5-HIAA 24h Urine_y',\n",
    "                     'Absolute Neutrophil Count_y', 'LDH_y']\n",
    "                     \n",
    "new_merged_df.drop(columns=columns_to_remove, inplace=True)\n",
    "new_merged_df.rename(columns=rename_dict, inplace=True)\n",
    "new_merged_df.shape\n",
    "\n"
   ]
  },
  {
   "cell_type": "code",
   "execution_count": null,
   "metadata": {},
   "outputs": [],
   "source": [
    "print(new_merged_df.columns)"
   ]
  },
  {
   "cell_type": "markdown",
   "metadata": {},
   "source": [
    "### Convert all \"Unknown\" and \"Not Done\" to NaN"
   ]
  },
  {
   "cell_type": "code",
   "execution_count": null,
   "metadata": {},
   "outputs": [],
   "source": [
    "new_merged_df['WBC'] = new_merged_df['WBC'].replace('>10x10Ë9/L', '>10x10^9/L')\n",
    "new_merged_df['Platelets'] = new_merged_df['Platelets'].replace('>400x10Ë9/L', '>400x10^9/L')\n",
    "\n",
    "new_merged_df.replace(['Unknown', 'Not Done'], pd.NA, inplace=True)\n",
    "new_merged_df['Best Response (RECIST)'] = new_merged_df['Best Response (RECIST)'].replace('NA (Not Assessed / Done)', np.nan)\n",
    "new_merged_df['NSE'] = new_merged_df['NSE'].replace('Missing/NA', np.nan)\n",
    "new_merged_df['Chromogranin A2'] = new_merged_df['Chromogranin A2'].replace('Missing/NA', np.nan)\n"
   ]
  },
  {
   "cell_type": "markdown",
   "metadata": {},
   "source": [
    "### Remove patients with NaN (\"status\" and \"OS (days)\")"
   ]
  },
  {
   "cell_type": "code",
   "execution_count": null,
   "metadata": {},
   "outputs": [],
   "source": [
    "# Verify that rows with NaN values in the \"Status\" column have been removed\n",
    "print(\"Number of NaN values in 'Status' column after removal:\", new_merged_df['Status'].isnull().sum())\n",
    "new_merged_df = new_merged_df.dropna(subset=['Status'])\n",
    "print(new_merged_df.shape)"
   ]
  },
  {
   "cell_type": "code",
   "execution_count": null,
   "metadata": {},
   "outputs": [],
   "source": [
    "# Verify that rows with NaN values in the \"Status\" column have been removed\n",
    "print(\"Number of NaN values in 'OS (days)' column after removal:\", new_merged_df['OS (days)'].isnull().sum())\n",
    "\n",
    "new_merged_df = new_merged_df.dropna(subset=['OS (days)'])\n",
    "print(new_merged_df.shape)"
   ]
  },
  {
   "cell_type": "markdown",
   "metadata": {},
   "source": [
    "#### Remove features Henning thing are not necessarly "
   ]
  },
  {
   "cell_type": "code",
   "execution_count": null,
   "metadata": {},
   "outputs": [],
   "source": [
    "# Bruker til Kaplan Meier, men fjerner den nå\n",
    "new_merged_df = new_merged_df.drop(columns=[\"Ki-67 grouping\"], axis=1)"
   ]
  },
  {
   "cell_type": "code",
   "execution_count": null,
   "metadata": {},
   "outputs": [],
   "source": [
    "columns_to_drop = [\n",
    "    \"Date of Bone Mets\",\n",
    "    'Chromogranin A Met',\n",
    "    'Chromogranin A PT',\n",
    "    'Date of Birth',\n",
    "    'Date of Diagnosis',\n",
    "    'Date of Diagnosis Prior Cancer',\n",
    "    'Date of FDG-PET',\n",
    "    'Date of PT Resection',\n",
    "    'Date of Radical Surgery',\n",
    "    'Differentiation Met',\n",
    "    'Differentiation PT',\n",
    "    'Ki-67 (avg)',\n",
    "    'Ki-67 (hotspot)',\n",
    "    'Ki-67 Met (avg)',\n",
    "    'Ki-67 Met (hotspot)',\n",
    "    'NEC or MANEC Met',\n",
    "    'NEC or MANEC PT',\n",
    "    'Synaptophysin Met',\n",
    "    'Synaptophysin PT',\n",
    "    'Tumour Morphology Met',\n",
    "    'Tumour Morphology PT',\n",
    "    'Date of Last Observation',\n",
    "    '% Liver Affection',\n",
    "    'Date of Metastasis',   \n",
    "    'Best Response 2 (RECIST)',\n",
    "    'Date of First Reintroduction',\n",
    "    'Date of First Treatment', \n",
    "    'Date of Last Treatment',\n",
    "    'Date of Progression',\n",
    "    'Date of Progression2',\n",
    "    'Ki-67 grouping Metastasis ',\n",
    "    'Ki-67 grouping Metastasis (Average)',\n",
    "    'Ki-67 grouping Metastasis (Hot Spots)',\n",
    "    'Ki-67 grouping Primary Tumour',\n",
    "    'Ki-67 grouping Primary Tumour (Average)',\n",
    "    'Ki-67 grouping Primary Tumour (Hot Spots)',\n",
    "    'CD56 Met', \n",
    "    'CD56 PT',\n",
    "    'Duration of Response (Months)',\n",
    "    'Location of Death', #fra sist møte \n",
    "    'OS (months)'\n",
    "]\n",
    "\n",
    "new_merged_df.drop(columns=columns_to_drop, axis=1, inplace=True)\n",
    "new_merged_df.shape"
   ]
  },
  {
   "cell_type": "markdown",
   "metadata": {},
   "source": [
    "#### Feature with just one variable or little variation \n",
    "\n",
    "- Cause of Death\n",
    "- Family Member with NET\n",
    "- Metastases\n",
    "- Loc Reccurence\n",
    "- <8 Wks Since Blood Tests\n",
    "- FDG-PET Uptake\n",
    "- Mets(Skin)\n",
    "- Mets(Brain)\n",
    "- Reintroduction with Cisplatin+Etoposide\n",
    "- Metastatic Disease\n",
    "- Radical Surgery\n",
    "- NEC/MANEC\n",
    "- Treatment Intention\n",
    "- Creatinine\n",
    "- Dev of Brain Mets"
   ]
  },
  {
   "cell_type": "code",
   "execution_count": null,
   "metadata": {},
   "outputs": [],
   "source": [
    "# Assuming 'new_merged_df' is your DataFrame and you're using 5-fold cross-validation\n",
    "new_category = summarize_binary_value_counts_with_threshold(new_merged_df)\n",
    "new_category"
   ]
  },
  {
   "cell_type": "code",
   "execution_count": null,
   "metadata": {},
   "outputs": [],
   "source": [
    "new_merged_df = remove_highly_imbalanced_binary_features(new_merged_df, 13) \n",
    "new_merged_df.shape"
   ]
  },
  {
   "cell_type": "code",
   "execution_count": null,
   "metadata": {},
   "outputs": [],
   "source": [
    "new_merged_df.drop([\"FDG-PET Uptake\"], axis=1, inplace=True)  # just have Yes in the column\n",
    "new_merged_df.shape\n"
   ]
  },
  {
   "cell_type": "markdown",
   "metadata": {},
   "source": [
    "### Feature with many NaN"
   ]
  },
  {
   "cell_type": "code",
   "execution_count": null,
   "metadata": {},
   "outputs": [],
   "source": [
    "# Count NaN values for every column (axis=0)\n",
    "nan_percentage_per_column = (new_merged_df.isnull().mean() * 100).sort_values(ascending=False).round()\n",
    "\n",
    "print(\"Percentage of NaN values for every column in descending order:\")\n",
    "nan_percentage_per_column.head(20)"
   ]
  },
  {
   "cell_type": "markdown",
   "metadata": {},
   "source": [
    "- Remove all features with over 50 % NaN "
   ]
  },
  {
   "cell_type": "code",
   "execution_count": null,
   "metadata": {},
   "outputs": [],
   "source": [
    "columns_to_drop = nan_percentage_per_column[nan_percentage_per_column > 65].index\n",
    "print(columns_to_drop)"
   ]
  },
  {
   "cell_type": "markdown",
   "metadata": {},
   "source": [
    "### Influx and outflux"
   ]
  },
  {
   "cell_type": "code",
   "execution_count": null,
   "metadata": {},
   "outputs": [],
   "source": [
    "file_path = \"influxoutflux.csv\"\n",
    "\n",
    "influx_outflux = pd.read_csv(file_path)\n",
    "influx_outflux = influx_outflux.rename(columns={'Unnamed: 0': 'Feature'})\n",
    "# Display the DataFrame\n",
    "influx_outflux.head()"
   ]
  },
  {
   "cell_type": "markdown",
   "metadata": {},
   "source": [
    "### Remove features that have more than 65 % NaN values or higher than 0.65 in influx"
   ]
  },
  {
   "cell_type": "code",
   "execution_count": null,
   "metadata": {},
   "outputs": [],
   "source": [
    "# Extract and print the removed features\n",
    "removed_features = influx_outflux[influx_outflux['influx'] > 0.65]['Feature'].tolist()\n",
    "print(\"\\nRemoved features:\")\n",
    "print(len(removed_features))"
   ]
  },
  {
   "cell_type": "code",
   "execution_count": null,
   "metadata": {},
   "outputs": [],
   "source": [
    "new_merged_df = new_merged_df.drop(removed_features, axis=1)\n",
    "new_merged_df.shape"
   ]
  },
  {
   "cell_type": "markdown",
   "metadata": {},
   "source": [
    "### Remove high correlated features\n",
    "Create a heatmap in a separate file called  `correlation_PCA_plots`, where we can observe the columns with the highest correlation."
   ]
  },
  {
   "cell_type": "code",
   "execution_count": null,
   "metadata": {},
   "outputs": [],
   "source": [
    "new_merged_df = new_merged_df.drop([\"M-stage\", \"TNM-staging\", 'Time from diag to mets (months)', 'SRI', 'Age at Death'], axis=1) # higly correlated#new_merged_df.shape"
   ]
  },
  {
   "cell_type": "markdown",
   "metadata": {},
   "source": [
    "### Remove PATNO with many NaN"
   ]
  },
  {
   "cell_type": "code",
   "execution_count": null,
   "metadata": {},
   "outputs": [],
   "source": [
    "# Calculate the percentage of NaN values in each row\n",
    "nan_percentage = (new_merged_df.isna().sum(axis=1) / new_merged_df.shape[1]) * 100\n",
    "\n",
    "# Create a DataFrame to hold the percentages\n",
    "percentages_df = pd.DataFrame({\n",
    "    'NaN': nan_percentage\n",
    "})\n",
    "\n",
    "# Display the sorted DataFrame\n",
    "sorted_percentages_df = percentages_df.sort_values(by='NaN', ascending=False).round()\n",
    "print(sorted_percentages_df.head(10))"
   ]
  },
  {
   "cell_type": "markdown",
   "metadata": {},
   "source": [
    "- Remove PATNO that has higher than `20 %` for Total Percentage"
   ]
  },
  {
   "cell_type": "code",
   "execution_count": null,
   "metadata": {},
   "outputs": [],
   "source": [
    "new_merged_df = new_merged_df[percentages_df['NaN'] <= 20]\n",
    "new_merged_df.shape"
   ]
  },
  {
   "cell_type": "code",
   "execution_count": null,
   "metadata": {},
   "outputs": [],
   "source": [
    "new_merged_df.columns"
   ]
  },
  {
   "cell_type": "code",
   "execution_count": null,
   "metadata": {},
   "outputs": [],
   "source": [
    "# Count NaN values for every column (axis=0)\n",
    "nan_percentage_per_column = (new_merged_df.isnull().mean() * 100).sort_values(ascending=False)\n",
    "print(\"Percentage of NaN values for every column in descending order:\")\n",
    "nan_percentage_per_column"
   ]
  },
  {
   "cell_type": "code",
   "execution_count": null,
   "metadata": {},
   "outputs": [],
   "source": [
    "new_merged_df.shape"
   ]
  },
  {
   "cell_type": "code",
   "execution_count": null,
   "metadata": {},
   "outputs": [],
   "source": [
    "file_path = \"new_study.xlsx\"\n",
    "\n",
    "# Save the DataFrame to an Excel file\n",
    "new_merged_df.to_excel(file_path, index=True) \n",
    "print(new_merged_df.columns)"
   ]
  },
  {
   "cell_type": "markdown",
   "metadata": {},
   "source": [
    "# Both"
   ]
  },
  {
   "cell_type": "code",
   "execution_count": null,
   "metadata": {},
   "outputs": [],
   "source": [
    "both_study_patients = [\n",
    "    4001, 4003, 4004, 4005, 4006, 4007, 4008, 4009, 4010, 4011, 4012, 4013, 4014,\n",
    "    4015, 4016, 4017, 4018, 4019, 4020, 4024, 6001, 6002, 6003, 6004, 6006, 6007,\n",
    "    6008, 6009, 8001, 8002, 8004, 8005, 8101, 8102, 8103, 8104, 8105, 8106, 8107,\n",
    "    8108, 8109, 8110, 8111, 8112, 8113, 8115, 8117, 8118, 8119, 8120, 8121, 8123,\n",
    "    8124, 8125, 8126, 8127, 8128, 8129, 8130, 8131, 8132, 8133, 8134, 8135, 8136,\n",
    "    8137, 8138, 8139, 8140, 8141, 8142, 8143, 8501, 8502, 8503, 8505, 8506, 8507, 9002,\n",
    "\n",
    "    9001, 9003, 9004, 9005, 9007, 9008, 9009, 9010, 9012, 9013, 9014, 9015, 9017, 9018, 9019, 9020,\n",
    "    9021, 9022, 9023, 9024, 9025, 9026, 9028, 9029, 9030, 9031, 9032, 9033, 9034, 9035, 9036, 9037,\n",
    "    9038, 9039, 9040, 9041, 9042, 9044, 9045, 9047, 9048, 9049, 9051, 9052, 9053, 9054, 9055, 9056,\n",
    "    9057, 9058, 9059, 9060, 9063, 9064, 9065, 9066, 9067, 9068, 9069, 9070, 9071, 9072, 9073, 9074,\n",
    "    9075, 9077, 9078, 9079, 9080, 9081, 9082, 9083, 9084, 9085, 9086, 9090, 9092, 9093, 9094, 9095,\n",
    "    9097, 9098, 9099, 9100, 9102, 9103, 9104, 9105, 9106, 9108, 9109, 9110, 9111, 9112, 9113, 9114,\n",
    "    9115, 9116, 9117, 9118, 9119, 9120, 9121, 9210, 9209, 9208, 9206, 9205, 9204, 9203, 9207, 9202,\n",
    "    9201\n",
    "]\n",
    "both_s_pat = set(both_study_patients)\n",
    "\n"
   ]
  },
  {
   "cell_type": "markdown",
   "metadata": {},
   "source": [
    "#### Sheet 1"
   ]
  },
  {
   "cell_type": "code",
   "execution_count": null,
   "metadata": {},
   "outputs": [],
   "source": [
    "both_df1=clean_data(df1, both_s_pat)\n",
    "both_df1 = both_df1.reindex(sorted(both_df1.columns), axis=1)\n"
   ]
  },
  {
   "cell_type": "code",
   "execution_count": null,
   "metadata": {},
   "outputs": [],
   "source": [
    "# Keep features that has values of both studies\n",
    "\n",
    "columns_to_keep = [\n",
    "    'BMI',\n",
    "    'Chromogranin A',\n",
    "    'Date of Birth', # remove later\n",
    "    'Date of Diagnosis', # remove later\n",
    "    'Date of PT Resection', # remove later\n",
    "    'Ki-67',\n",
    "    'Metastatic Disease',\n",
    "    'Octreoscan', # many not Done\n",
    "    'Primary Tumour',\n",
    "    'Primary Tumour Resected',\n",
    "    'Prior Other Cancer',\n",
    "    'Sex',\n",
    "    'Smoking',\n",
    "    'Stage grouped',\n",
    "    'Synaptophysin',\n",
    "    'Tumour Morphology',\n",
    "    'WHO Perf Stat'\n",
    "]\n",
    "\n",
    "both_df1 = both_df1[columns_to_keep]\n",
    "both_df1.shape"
   ]
  },
  {
   "cell_type": "markdown",
   "metadata": {},
   "source": [
    "#### Sheet 2"
   ]
  },
  {
   "cell_type": "code",
   "execution_count": null,
   "metadata": {},
   "outputs": [],
   "source": [
    "both_df2=clean_data(df2, both_s_pat)\n",
    "both_df2 = both_df2.reindex(sorted(both_df2.columns), axis=1)\n",
    "both_df2.shape\n"
   ]
  },
  {
   "cell_type": "code",
   "execution_count": null,
   "metadata": {},
   "outputs": [],
   "source": [
    "# Keep features that has values of both studies\n",
    "\n",
    "columns_to_keep = [\n",
    "    '5-HIAA 24h Urine', # to many Not Done, remove later\n",
    "    'ALP',\n",
    "    'CRP',\n",
    "    'Chromogranin A',\n",
    "    'Creatinine',\n",
    "    'Haemoglobin',\n",
    "    'LDH',\n",
    "    'Platelets',\n",
    "    'WBC'\n",
    "]\n",
    "\n",
    "both_df2 = both_df2[columns_to_keep]\n",
    "both_df2.shape"
   ]
  },
  {
   "cell_type": "markdown",
   "metadata": {},
   "source": [
    "#### Sheet 3"
   ]
  },
  {
   "cell_type": "code",
   "execution_count": null,
   "metadata": {},
   "outputs": [],
   "source": [
    "both_df3=clean_data(df3, both_s_pat)\n",
    "both_df3 = both_df3.reindex(sorted(both_df3.columns), axis=1)\n",
    "both_df3.shape\n"
   ]
  },
  {
   "cell_type": "code",
   "execution_count": null,
   "metadata": {},
   "outputs": [],
   "source": [
    "# Keep features that has values of both studies\n",
    "\n",
    "columns_to_keep = [\n",
    "    'Cause of Death', # remove later\n",
    "    'Date of Last Observation', # remove later\n",
    "    'Status'\n",
    "]\n",
    "\n",
    "both_df3 = both_df3[columns_to_keep]\n",
    "both_df3.shape"
   ]
  },
  {
   "cell_type": "markdown",
   "metadata": {},
   "source": [
    "#### Sheet 4"
   ]
  },
  {
   "cell_type": "code",
   "execution_count": null,
   "metadata": {},
   "outputs": [],
   "source": [
    "both_df4=clean_data(df4, both_s_pat)\n",
    "both_df4 = both_df4.reindex(sorted(both_df4.columns), axis=1)\n",
    "both_df4.shape\n"
   ]
  },
  {
   "cell_type": "code",
   "execution_count": null,
   "metadata": {},
   "outputs": [],
   "source": [
    "# Keep features that has values of both studies\n",
    "#'Metastatic Disease' and 'Metastases' are the same. Merge them. But it have little variation\n",
    "\n",
    "\n",
    "columns_to_keep = [\n",
    "    'Date of Metastasis', # remove later\n",
    "    'Mets(Bone)',\n",
    "    'Mets(Brain)',\n",
    "    'Mets(LN)',\n",
    "    'Mets(Liver)',\n",
    "    'Mets(Lung)',\n",
    "    'Mets(Other)',\n",
    "    #'WHO Perf Stat'  # use from sheet 1\n",
    "]\n",
    "\n",
    "both_df4 = both_df4[columns_to_keep]\n",
    "both_df4.shape"
   ]
  },
  {
   "cell_type": "markdown",
   "metadata": {},
   "source": [
    "#### Sheet 5"
   ]
  },
  {
   "cell_type": "code",
   "execution_count": null,
   "metadata": {},
   "outputs": [],
   "source": [
    "both_df5=clean_data(df5, both_s_pat)\n",
    "both_df5 = both_df5.reindex(sorted(both_df5.columns), axis=1)\n",
    "both_df5.shape\n"
   ]
  },
  {
   "cell_type": "code",
   "execution_count": null,
   "metadata": {},
   "outputs": [],
   "source": [
    "# Keep features that has values of both studies\n",
    "\n",
    "columns_to_keep = [\n",
    "    'Best Response (RECIST)',\n",
    "    'Chemotherapy Type',\n",
    "    'Date of First Reintroduction',\n",
    "    'Date of First Treatment',\n",
    "    'Date of Last Treatment',\n",
    "    'Date of Progression',\n",
    "    'Date of Progression2',\n",
    "    'Duration of Response (Months)',\n",
    "    'Number of Courses',\n",
    "    'Reintroduction with Cisplatin+Etoposide',\n",
    "]\n",
    "\n",
    "both_df5 = both_df5[columns_to_keep]\n",
    "both_df5.shape"
   ]
  },
  {
   "cell_type": "markdown",
   "metadata": {},
   "source": [
    "##### Sheet 6"
   ]
  },
  {
   "cell_type": "code",
   "execution_count": null,
   "metadata": {},
   "outputs": [],
   "source": [
    "both_df6=clean_data(df6, both_s_pat)\n",
    "both_df6 = both_df6.reindex(sorted(both_df6.columns), axis=1)\n",
    "both_df6.shape"
   ]
  },
  {
   "cell_type": "code",
   "execution_count": null,
   "metadata": {},
   "outputs": [],
   "source": [
    "# Keep features that has values of both studies\n",
    "\n",
    "columns_to_keep = [\n",
    "    'Age at Death',\n",
    "    'Age at Diagnosis',\n",
    "    'Ki-67 grouping',\n",
    "    'OS (days)',\n",
    "    'OS (months)',\n",
    "    'Time from diag to mets (days)',\n",
    "    'Time from diag to mets (months)'\n",
    "]\n",
    "\n",
    "both_df6 = both_df6[columns_to_keep]\n",
    "both_df6.shape"
   ]
  },
  {
   "cell_type": "markdown",
   "metadata": {},
   "source": [
    "### Merge all sheet together"
   ]
  },
  {
   "cell_type": "code",
   "execution_count": null,
   "metadata": {},
   "outputs": [],
   "source": [
    "both_merged_df = both_df1.merge(both_df2, left_index=True, right_index=True, how='outer')\n",
    "both_merged_df = both_merged_df.merge(both_df3, left_index=True, right_index=True, how='outer')\n",
    "both_merged_df = both_merged_df.merge(both_df4, left_index=True, right_index=True, how='outer')\n",
    "both_merged_df = both_merged_df.merge(both_df5, left_index=True, right_index=True, how='outer')\n",
    "both_merged_df = both_merged_df.merge(both_df6, left_index=True, right_index=True, how='outer')\n",
    "\n",
    "both_merged_df.shape\n"
   ]
  },
  {
   "cell_type": "code",
   "execution_count": null,
   "metadata": {},
   "outputs": [],
   "source": [
    "print(both_merged_df.columns)"
   ]
  },
  {
   "cell_type": "markdown",
   "metadata": {},
   "source": [
    "### Remove patients with NaN\n"
   ]
  },
  {
   "cell_type": "code",
   "execution_count": null,
   "metadata": {},
   "outputs": [],
   "source": [
    "# Verify that rows with NaN values in the \"Status\" column have been removed\n",
    "print(\"Number of NaN values in 'Status' column after removal:\", both_merged_df['Status'].isnull().sum())\n",
    "print(both_merged_df.shape)\n",
    "\n",
    "both_merged_df = both_merged_df.dropna(subset=['Status'])"
   ]
  },
  {
   "cell_type": "code",
   "execution_count": null,
   "metadata": {},
   "outputs": [],
   "source": [
    "# Store the original index\n",
    "original_index = set(both_merged_df.index)\n",
    "\n",
    "# Perform the dropna operation\n",
    "both_merged_df = both_merged_df.dropna(subset=['OS (days)'])\n",
    "\n",
    "# Store the new index after removal of NaN values\n",
    "new_index = set(both_merged_df.index)\n",
    "\n",
    "# Find the difference\n",
    "removed_indices = original_index - new_index\n",
    "\n",
    "# Print out the removed index numbers\n",
    "print(\"Index numbers of removed rows:\", removed_indices)\n"
   ]
  },
  {
   "cell_type": "code",
   "execution_count": null,
   "metadata": {},
   "outputs": [],
   "source": [
    "# Verify that rows with NaN values in the \"Status\" column have been removed\n",
    "print(\"Number of NaN values in 'OS(time)' column after removal:\", both_merged_df['OS (days)'].isnull().sum())\n",
    "print(both_merged_df.shape)\n",
    "\n",
    "both_merged_df = both_merged_df.dropna(subset=['OS (days)'])"
   ]
  },
  {
   "cell_type": "markdown",
   "metadata": {},
   "source": [
    "#### Remove features Henning thing are not necessarly "
   ]
  },
  {
   "cell_type": "code",
   "execution_count": null,
   "metadata": {},
   "outputs": [],
   "source": [
    "# Bruker bare til Kaplan Meier, men fjerner den nå\n",
    "both_merged_df = both_merged_df.drop(columns=[\"Ki-67 grouping\"], axis=1)"
   ]
  },
  {
   "cell_type": "code",
   "execution_count": null,
   "metadata": {},
   "outputs": [],
   "source": [
    "# Henning\n",
    "\n",
    "columns_to_drop = [\n",
    "    'Date of Birth',\n",
    "    'Date of Diagnosis',\n",
    "    'Date of PT Resection',\n",
    "    'Date of Last Observation',\n",
    "    'Date of Metastasis',\n",
    "    'Date of First Reintroduction',\n",
    "    'Date of First Treatment',\n",
    "    'Date of Last Treatment',\n",
    "    'Date of Progression',\n",
    "    'Date of Progression2',\n",
    "    'Duration of Response (Months)',\n",
    "    \"OS (months)\"\n",
    "]\n",
    "both_merged_df = both_merged_df.drop(columns=columns_to_drop, axis=1)\n",
    "\n",
    "both_merged_df.shape"
   ]
  },
  {
   "cell_type": "code",
   "execution_count": null,
   "metadata": {},
   "outputs": [],
   "source": [
    "rename_dict = {\n",
    "    'Chromogranin A_x': 'Chromogranin A',\n",
    "    'Chromogranin A_y': 'Chromogranin A2'\n",
    "    }\n",
    "both_merged_df.rename(columns=rename_dict, inplace=True)\n",
    "both_merged_df.shape\n",
    "\n"
   ]
  },
  {
   "cell_type": "markdown",
   "metadata": {},
   "source": [
    "### Convert all \"Unknown\" and \"Not Done\" to NaN"
   ]
  },
  {
   "cell_type": "code",
   "execution_count": null,
   "metadata": {},
   "outputs": [],
   "source": [
    "both_merged_df['WBC'] = both_merged_df['WBC'].replace('>10x10Ë9/L', '>10x10^9/L')\n",
    "both_merged_df['Platelets'] = both_merged_df['Platelets'].replace('>400x10Ë9/L', '>400x10^9/L')\n",
    "\n",
    "both_merged_df.replace(['Unknown', 'Not Done'], pd.NA, inplace=True)\n",
    "\n",
    "both_merged_df['Best Response (RECIST)'] = both_merged_df['Best Response (RECIST)'].replace('NA (Not Assessed / Done)', np.nan)\n",
    "both_merged_df['Chromogranin A2'] = both_merged_df['Chromogranin A2'].replace('Missing/NA', np.nan)"
   ]
  },
  {
   "cell_type": "code",
   "execution_count": null,
   "metadata": {},
   "outputs": [],
   "source": [
    "both_merged_df.columns"
   ]
  },
  {
   "cell_type": "markdown",
   "metadata": {},
   "source": [
    "### Feature with many NaN"
   ]
  },
  {
   "cell_type": "code",
   "execution_count": null,
   "metadata": {},
   "outputs": [],
   "source": [
    "# Count NaN values for every column (axis=0)\n",
    "nan_percentage_per_column = (both_merged_df.isnull().mean() * 100).sort_values(ascending=False)\n",
    "\n",
    "print(\"Percentage of NaN values for every column in descending order:\")\n",
    "nan_percentage_per_column.head(20)"
   ]
  },
  {
   "cell_type": "markdown",
   "metadata": {},
   "source": [
    "- Remove all features with over 50 % NaN"
   ]
  },
  {
   "cell_type": "code",
   "execution_count": null,
   "metadata": {},
   "outputs": [],
   "source": [
    "columns_to_drop = nan_percentage_per_column[nan_percentage_per_column > 50].index\n",
    "both_merged_df.drop(columns=columns_to_drop, inplace=True)"
   ]
  },
  {
   "cell_type": "markdown",
   "metadata": {},
   "source": [
    "### Remove features with little variation"
   ]
  },
  {
   "cell_type": "code",
   "execution_count": null,
   "metadata": {},
   "outputs": [],
   "source": [
    "both_category = summarize_binary_value_counts_with_threshold(both_merged_df)\n",
    "both_category"
   ]
  },
  {
   "cell_type": "code",
   "execution_count": null,
   "metadata": {},
   "outputs": [],
   "source": [
    "both_merged_df = remove_highly_imbalanced_binary_features(both_merged_df, 10)  # similar threshold as for Old study"
   ]
  },
  {
   "cell_type": "code",
   "execution_count": null,
   "metadata": {},
   "outputs": [],
   "source": [
    "both_merged_df['Cause of Death'].value_counts()"
   ]
  },
  {
   "cell_type": "code",
   "execution_count": null,
   "metadata": {},
   "outputs": [],
   "source": [
    "# Remove \"Cause of Death\" - (NEC / Neuroendocrine Cancer / Other (1) / Toxicity Related To NEC Treatmet (1))\n",
    "columns_to_drop = [\n",
    "    'Cause of Death'\n",
    "]\n",
    "both_merged_df = both_merged_df.drop(columns=columns_to_drop, axis=1)\n",
    "\n",
    "both_merged_df.shape"
   ]
  },
  {
   "cell_type": "markdown",
   "metadata": {},
   "source": [
    "### Remove PATNO with many Not Done or NaN\n",
    "Sjekker først hvilke pasienter som har flest NaN og Not Done, og setter en grense på 10 %, så fjerner alt over 10 % (Total Percentage)\n",
    "- Setter dem i minkende rekkefølge"
   ]
  },
  {
   "cell_type": "code",
   "execution_count": null,
   "metadata": {},
   "outputs": [],
   "source": [
    "# Calculate the percentage of NaN values in each row\n",
    "nan_percentage = (both_merged_df.isna().sum(axis=1) / both_merged_df.shape[1]) * 100\n",
    "\n",
    "# Create a DataFrame to hold the percentages\n",
    "percentages_df = pd.DataFrame({\n",
    "    'NaN (%)': nan_percentage\n",
    "})\n",
    "\n",
    "# Display the sorted DataFrame\n",
    "sorted_percentages_df = percentages_df.sort_values(by='NaN (%)', ascending=False)\n",
    "print(sorted_percentages_df.head(15))"
   ]
  },
  {
   "cell_type": "code",
   "execution_count": null,
   "metadata": {},
   "outputs": [],
   "source": [
    "both_merged_df = both_merged_df[percentages_df['NaN (%)'] <= 20]\n",
    "both_merged_df.shape\n",
    "print(both_merged_df.columns)"
   ]
  },
  {
   "cell_type": "markdown",
   "metadata": {},
   "source": [
    "#### Save the data to excel"
   ]
  },
  {
   "cell_type": "code",
   "execution_count": null,
   "metadata": {},
   "outputs": [],
   "source": [
    "file_path = \"both_study.xlsx\"\n",
    "\n",
    "# Save the DataFrame to an Excel file\n",
    "both_merged_df.to_excel(file_path, index=True) \n"
   ]
  }
 ],
 "metadata": {
  "kernelspec": {
   "display_name": "Python",
   "language": "python",
   "name": "python3"
  },
  "language_info": {
   "codemirror_mode": {
    "name": "ipython",
    "version": 3
   },
   "file_extension": ".py",
   "mimetype": "text/x-python",
   "name": "python",
   "nbconvert_exporter": "python",
   "pygments_lexer": "ipython3",
   "version": "3.11.8"
  }
 },
 "nbformat": 4,
 "nbformat_minor": 2
}
